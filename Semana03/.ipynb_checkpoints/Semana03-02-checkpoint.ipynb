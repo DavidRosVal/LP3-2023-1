{
 "cells": [
  {
   "cell_type": "markdown",
   "id": "bb96eb84",
   "metadata": {},
   "source": [
    "# Semana03\n",
    "David Rosado Valerio"
   ]
  },
  {
   "cell_type": "raw",
   "id": "c464fda2",
   "metadata": {},
   "source": [
    "Temas:\n",
    "    1. Números\n",
    "    2. Variables\n",
    "    3. Manejo de cadenas\n",
    "    4. Ingreso de datos por teclado\n",
    "    5. Operadores"
   ]
  },
  {
   "cell_type": "markdown",
   "id": "d74e9ec1",
   "metadata": {},
   "source": [
    "2. Variables"
   ]
  },
  {
   "cell_type": "code",
   "execution_count": 1,
   "id": "d09f6c9c",
   "metadata": {},
   "outputs": [],
   "source": [
    "# Siempre deben iniciar con una letra o un guión abajo (nunca con un número o símbolo)"
   ]
  },
  {
   "cell_type": "code",
   "execution_count": 2,
   "id": "e24637b0",
   "metadata": {},
   "outputs": [],
   "source": [
    "edad = 19"
   ]
  },
  {
   "cell_type": "code",
   "execution_count": 3,
   "id": "c2172038",
   "metadata": {},
   "outputs": [
    {
     "data": {
      "text/plain": [
       "19"
      ]
     },
     "execution_count": 3,
     "metadata": {},
     "output_type": "execute_result"
    }
   ],
   "source": [
    "edad"
   ]
  },
  {
   "cell_type": "code",
   "execution_count": 4,
   "id": "febfa910",
   "metadata": {},
   "outputs": [],
   "source": [
    "nombre = \"David\""
   ]
  },
  {
   "cell_type": "code",
   "execution_count": 5,
   "id": "2ec59d54",
   "metadata": {},
   "outputs": [
    {
     "data": {
      "text/plain": [
       "'David'"
      ]
     },
     "execution_count": 5,
     "metadata": {},
     "output_type": "execute_result"
    }
   ],
   "source": [
    "nombre"
   ]
  },
  {
   "cell_type": "code",
   "execution_count": 6,
   "id": "407f0a03",
   "metadata": {},
   "outputs": [],
   "source": [
    "apellido = \"Rosado Valerio\""
   ]
  },
  {
   "cell_type": "code",
   "execution_count": 7,
   "id": "5b52acb2",
   "metadata": {},
   "outputs": [
    {
     "data": {
      "text/plain": [
       "'Rosado Valerio'"
      ]
     },
     "execution_count": 7,
     "metadata": {},
     "output_type": "execute_result"
    }
   ],
   "source": [
    "apellido"
   ]
  },
  {
   "cell_type": "code",
   "execution_count": 8,
   "id": "6498a44f",
   "metadata": {},
   "outputs": [],
   "source": [
    "nombrecompleto = nombre + \" \" + apellido"
   ]
  },
  {
   "cell_type": "code",
   "execution_count": 9,
   "id": "ca9d5eb6",
   "metadata": {},
   "outputs": [
    {
     "data": {
      "text/plain": [
       "'David Rosado Valerio'"
      ]
     },
     "execution_count": 9,
     "metadata": {},
     "output_type": "execute_result"
    }
   ],
   "source": [
    "nombrecompleto"
   ]
  },
  {
   "cell_type": "code",
   "execution_count": 10,
   "id": "a56e23ba",
   "metadata": {},
   "outputs": [],
   "source": [
    "nombrecompleto2 = nombre + apellido"
   ]
  },
  {
   "cell_type": "code",
   "execution_count": 11,
   "id": "a7a87c23",
   "metadata": {},
   "outputs": [
    {
     "data": {
      "text/plain": [
       "'DavidRosado Valerio'"
      ]
     },
     "execution_count": 11,
     "metadata": {},
     "output_type": "execute_result"
    }
   ],
   "source": [
    "nombrecompleto2"
   ]
  },
  {
   "cell_type": "code",
   "execution_count": 12,
   "id": "e458b2e5",
   "metadata": {},
   "outputs": [
    {
     "data": {
      "text/plain": [
       "int"
      ]
     },
     "execution_count": 12,
     "metadata": {},
     "output_type": "execute_result"
    }
   ],
   "source": [
    "# Para saber el tipo de variable utilizamos la función type()\n",
    "# Por ejemplo\n",
    "\n",
    "numero = 50\n",
    "type(numero)"
   ]
  },
  {
   "cell_type": "code",
   "execution_count": 13,
   "id": "12701c17",
   "metadata": {},
   "outputs": [
    {
     "data": {
      "text/plain": [
       "str"
      ]
     },
     "execution_count": 13,
     "metadata": {},
     "output_type": "execute_result"
    }
   ],
   "source": [
    "type(nombre)"
   ]
  },
  {
   "cell_type": "code",
   "execution_count": 14,
   "id": "6719aa7e",
   "metadata": {},
   "outputs": [
    {
     "data": {
      "text/plain": [
       "float"
      ]
     },
     "execution_count": 14,
     "metadata": {},
     "output_type": "execute_result"
    }
   ],
   "source": [
    "talla = 1.78\n",
    "type(talla)"
   ]
  },
  {
   "cell_type": "code",
   "execution_count": 15,
   "id": "9e37aafd",
   "metadata": {},
   "outputs": [
    {
     "data": {
      "text/plain": [
       "str"
      ]
     },
     "execution_count": 15,
     "metadata": {},
     "output_type": "execute_result"
    }
   ],
   "source": [
    "# Para convertir un número en cadena utilizamos el comando srt()\n",
    "\n",
    "numero = 100\n",
    "cadena = str(numero)\n",
    "type(numero)\n",
    "type(cadena)"
   ]
  },
  {
   "cell_type": "code",
   "execution_count": 16,
   "id": "130be27d",
   "metadata": {},
   "outputs": [
    {
     "data": {
      "text/plain": [
       "'100'"
      ]
     },
     "execution_count": 16,
     "metadata": {},
     "output_type": "execute_result"
    }
   ],
   "source": [
    "cadena"
   ]
  },
  {
   "cell_type": "code",
   "execution_count": 17,
   "id": "3c798df9",
   "metadata": {},
   "outputs": [
    {
     "data": {
      "text/plain": [
       "50"
      ]
     },
     "execution_count": 17,
     "metadata": {},
     "output_type": "execute_result"
    }
   ],
   "source": [
    "# Para convertir una cadena en un entero utilizamos la función int()\n",
    "\n",
    "cadena2 = \"50\"\n",
    "numero2 = int(cadena2)\n",
    "numero2"
   ]
  },
  {
   "cell_type": "code",
   "execution_count": 18,
   "id": "b4c3fe82",
   "metadata": {},
   "outputs": [
    {
     "data": {
      "text/plain": [
       "int"
      ]
     },
     "execution_count": 18,
     "metadata": {},
     "output_type": "execute_result"
    }
   ],
   "source": [
    "type(numero2)"
   ]
  },
  {
   "cell_type": "code",
   "execution_count": 19,
   "id": "870a255e",
   "metadata": {},
   "outputs": [],
   "source": [
    "# Para convertir una cadena a un decimal utilizamos float()"
   ]
  },
  {
   "cell_type": "code",
   "execution_count": 20,
   "id": "628e2d4d",
   "metadata": {},
   "outputs": [
    {
     "data": {
      "text/plain": [
       "50.0"
      ]
     },
     "execution_count": 20,
     "metadata": {},
     "output_type": "execute_result"
    }
   ],
   "source": [
    "cadena2 = \"50\"\n",
    "numero3 = float(cadena2)\n",
    "numero3"
   ]
  },
  {
   "cell_type": "code",
   "execution_count": 21,
   "id": "c6e89708",
   "metadata": {},
   "outputs": [
    {
     "data": {
      "text/plain": [
       "float"
      ]
     },
     "execution_count": 21,
     "metadata": {},
     "output_type": "execute_result"
    }
   ],
   "source": [
    "type(numero3)"
   ]
  },
  {
   "cell_type": "code",
   "execution_count": null,
   "id": "efb126a2",
   "metadata": {},
   "outputs": [],
   "source": []
  }
 ],
 "metadata": {
  "kernelspec": {
   "display_name": "Python 3 (ipykernel)",
   "language": "python",
   "name": "python3"
  },
  "language_info": {
   "codemirror_mode": {
    "name": "ipython",
    "version": 3
   },
   "file_extension": ".py",
   "mimetype": "text/x-python",
   "name": "python",
   "nbconvert_exporter": "python",
   "pygments_lexer": "ipython3",
   "version": "3.9.12"
  }
 },
 "nbformat": 4,
 "nbformat_minor": 5
}
